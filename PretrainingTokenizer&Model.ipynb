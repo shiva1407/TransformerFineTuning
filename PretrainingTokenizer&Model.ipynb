{
 "cells": [
  {
   "cell_type": "code",
   "execution_count": 1,
   "id": "d45bd9c9",
   "metadata": {},
   "outputs": [],
   "source": [
    "import pandas as pd"
   ]
  },
  {
   "cell_type": "code",
   "execution_count": 2,
   "id": "f9293b0d",
   "metadata": {},
   "outputs": [],
   "source": [
    "df = pd.read_csv(\"NewStoryDataCombinedCleaned.csv\")"
   ]
  },
  {
   "cell_type": "code",
   "execution_count": 3,
   "id": "d46c0bf6",
   "metadata": {},
   "outputs": [
    {
     "data": {
      "text/plain": [
       "Index(['Unnamed: 0', 'StoryText', 'Acc'], dtype='object')"
      ]
     },
     "execution_count": 3,
     "metadata": {},
     "output_type": "execute_result"
    }
   ],
   "source": [
    "df.columns"
   ]
  },
  {
   "cell_type": "code",
   "execution_count": 4,
   "id": "09f47ab3",
   "metadata": {},
   "outputs": [
    {
     "data": {
      "application/vnd.jupyter.widget-view+json": {
       "model_id": "8b74d87dc1724c5c9763e786353ae66f",
       "version_major": 2,
       "version_minor": 0
      },
      "text/plain": [
       "Downloading:   0%|          | 0.00/1.36M [00:00<?, ?B/s]"
      ]
     },
     "metadata": {},
     "output_type": "display_data"
    },
    {
     "name": "stderr",
     "output_type": "stream",
     "text": [
      "C:\\Users\\kammari.vara.prasad\\Anaconda3\\lib\\site-packages\\huggingface_hub\\file_download.py:123: UserWarning: `huggingface_hub` cache-system uses symlinks by default to efficiently store duplicated files but your machine does not support them in C:\\Users\\kammari.vara.prasad\\.cache\\huggingface\\hub. Caching files will still work but in a degraded version that might require more space on your disk. This warning can be disabled by setting the `HF_HUB_DISABLE_SYMLINKS_WARNING` environment variable. For more details, see https://huggingface.co/docs/huggingface_hub/how-to-cache#limitations.\n",
      "To support symlinks on Windows, you either need to activate Developer Mode or to run Python as an administrator. In order to see activate developer mode, see this article: https://docs.microsoft.com/en-us/windows/apps/get-started/enable-your-device-for-development\n",
      "  warnings.warn(message)\n"
     ]
    }
   ],
   "source": [
    "from transformers import AutoTokenizer\n",
    "\n",
    "old_tokenizer = AutoTokenizer.from_pretrained(\"gpt2\")"
   ]
  },
  {
   "cell_type": "code",
   "execution_count": 5,
   "id": "dbfa1c6f",
   "metadata": {},
   "outputs": [],
   "source": [
    "example=\"As a rra user I want to see all the investq checks scores of my stories in the current release\""
   ]
  },
  {
   "cell_type": "code",
   "execution_count": 7,
   "id": "23940708",
   "metadata": {},
   "outputs": [
    {
     "data": {
      "text/plain": [
       "['As',\n",
       " 'Ġa',\n",
       " 'Ġr',\n",
       " 'ra',\n",
       " 'Ġuser',\n",
       " 'ĠI',\n",
       " 'Ġwant',\n",
       " 'Ġto',\n",
       " 'Ġsee',\n",
       " 'Ġall',\n",
       " 'Ġthe',\n",
       " 'Ġinvest',\n",
       " 'q',\n",
       " 'Ġchecks',\n",
       " 'Ġscores',\n",
       " 'Ġof',\n",
       " 'Ġmy',\n",
       " 'Ġstories',\n",
       " 'Ġin',\n",
       " 'Ġthe',\n",
       " 'Ġcurrent',\n",
       " 'Ġrelease']"
      ]
     },
     "execution_count": 7,
     "metadata": {},
     "output_type": "execute_result"
    }
   ],
   "source": [
    "tokens = old_tokenizer.tokenize(example)\n",
    "tokens"
   ]
  },
  {
   "cell_type": "code",
   "execution_count": 8,
   "id": "db34dbe1",
   "metadata": {},
   "outputs": [
    {
     "data": {
      "text/html": [
       "<div>\n",
       "<style scoped>\n",
       "    .dataframe tbody tr th:only-of-type {\n",
       "        vertical-align: middle;\n",
       "    }\n",
       "\n",
       "    .dataframe tbody tr th {\n",
       "        vertical-align: top;\n",
       "    }\n",
       "\n",
       "    .dataframe thead th {\n",
       "        text-align: right;\n",
       "    }\n",
       "</style>\n",
       "<table border=\"1\" class=\"dataframe\">\n",
       "  <thead>\n",
       "    <tr style=\"text-align: right;\">\n",
       "      <th></th>\n",
       "      <th>Unnamed: 0</th>\n",
       "      <th>StoryText</th>\n",
       "      <th>Acc</th>\n",
       "    </tr>\n",
       "  </thead>\n",
       "  <tbody>\n",
       "    <tr>\n",
       "      <th>0</th>\n",
       "      <td>0</td>\n",
       "      <td>As a user   I should be able to refresh the co...</td>\n",
       "      <td>Dashboard should be able to update the in...</td>\n",
       "    </tr>\n",
       "    <tr>\n",
       "      <th>1</th>\n",
       "      <td>1</td>\n",
       "      <td>ICM application should be able to provide mult...</td>\n",
       "      <td>A User should be able to select his  her ...</td>\n",
       "    </tr>\n",
       "    <tr>\n",
       "      <th>2</th>\n",
       "      <td>3</td>\n",
       "      <td>Requirement Coverage   Display bread crumb of ...</td>\n",
       "      <td>When User clicks on the  Interactive Graphs on...</td>\n",
       "    </tr>\n",
       "    <tr>\n",
       "      <th>3</th>\n",
       "      <td>4</td>\n",
       "      <td>User should be able to select  view a status a...</td>\n",
       "      <td>Change Manager should be able to select status...</td>\n",
       "    </tr>\n",
       "    <tr>\n",
       "      <th>4</th>\n",
       "      <td>5</td>\n",
       "      <td>MyWizard Home    As a app   all critical featu...</td>\n",
       "      <td>Application should use the attached interface ...</td>\n",
       "    </tr>\n",
       "  </tbody>\n",
       "</table>\n",
       "</div>"
      ],
      "text/plain": [
       "   Unnamed: 0                                          StoryText  \\\n",
       "0           0  As a user   I should be able to refresh the co...   \n",
       "1           1  ICM application should be able to provide mult...   \n",
       "2           3  Requirement Coverage   Display bread crumb of ...   \n",
       "3           4  User should be able to select  view a status a...   \n",
       "4           5  MyWizard Home    As a app   all critical featu...   \n",
       "\n",
       "                                                 Acc  \n",
       "0       Dashboard should be able to update the in...  \n",
       "1       A User should be able to select his  her ...  \n",
       "2  When User clicks on the  Interactive Graphs on...  \n",
       "3  Change Manager should be able to select status...  \n",
       "4  Application should use the attached interface ...  "
      ]
     },
     "execution_count": 8,
     "metadata": {},
     "output_type": "execute_result"
    }
   ],
   "source": [
    "df.head()"
   ]
  },
  {
   "cell_type": "code",
   "execution_count": null,
   "id": "2c95e500",
   "metadata": {},
   "outputs": [],
   "source": [
    "df['Text']= df['StoryText']+\"<\""
   ]
  },
  {
   "cell_type": "code",
   "execution_count": 18,
   "id": "e8f8628f",
   "metadata": {},
   "outputs": [],
   "source": [
    "def get_training_corpus():\n",
    "    dataset = df[\"StoryText\"]\n",
    "    for start_idx in range(0, len(dataset), 1000):\n",
    "        samples = dataset[start_idx : start_idx + 1000]\n",
    "        yield samples"
   ]
  },
  {
   "cell_type": "code",
   "execution_count": 19,
   "id": "ef103391",
   "metadata": {},
   "outputs": [],
   "source": [
    "samples=get_training_corpus()"
   ]
  },
  {
   "cell_type": "code",
   "execution_count": 28,
   "id": "850e43f2",
   "metadata": {},
   "outputs": [
    {
     "name": "stderr",
     "output_type": "stream",
     "text": [
      "Found cached dataset csv (C:/Users/kammari.vara.prasad/.cache/huggingface/datasets/csv/default-0982a033c4e77e0c/0.0.0/6b34fb8fcf56f7c8ba51dc895bfa2bfbe43546f190a60fcf74bb5e8afdcc2317)\n"
     ]
    },
    {
     "data": {
      "application/vnd.jupyter.widget-view+json": {
       "model_id": "5ace9e1c85e64a0a8a02e26b8e8131f4",
       "version_major": 2,
       "version_minor": 0
      },
      "text/plain": [
       "  0%|          | 0/1 [00:00<?, ?it/s]"
      ]
     },
     "metadata": {},
     "output_type": "display_data"
    }
   ],
   "source": [
    "from datasets import load_dataset\n",
    "\n",
    "dataset = load_dataset(\"csv\", data_files=\"NewStoryDataCombinedCleaned.csv\")"
   ]
  },
  {
   "cell_type": "code",
   "execution_count": 31,
   "id": "3d511d3a",
   "metadata": {},
   "outputs": [
    {
     "data": {
      "text/plain": [
       "{'Unnamed: 0': 0,\n",
       " 'StoryText': 'As a user   I should be able to refresh the contents of the dashboard As a user   I should be able to refresh the contents of the dashboard',\n",
       " 'Acc': '     Dashboard should be able to update the information of various KPIs through an auto  refresh every      seconds     User should be able to click on the   Refresh   icon button to update the information on dashboard'}"
      ]
     },
     "execution_count": 31,
     "metadata": {},
     "output_type": "execute_result"
    }
   ],
   "source": [
    "dataset[\"train\"][0]"
   ]
  },
  {
   "cell_type": "code",
   "execution_count": null,
   "id": "e048f088",
   "metadata": {},
   "outputs": [],
   "source": []
  },
  {
   "cell_type": "code",
   "execution_count": null,
   "id": "5efd46bb",
   "metadata": {},
   "outputs": [],
   "source": []
  }
 ],
 "metadata": {
  "kernelspec": {
   "display_name": "Python 3 (ipykernel)",
   "language": "python",
   "name": "python3"
  },
  "language_info": {
   "codemirror_mode": {
    "name": "ipython",
    "version": 3
   },
   "file_extension": ".py",
   "mimetype": "text/x-python",
   "name": "python",
   "nbconvert_exporter": "python",
   "pygments_lexer": "ipython3",
   "version": "3.9.13"
  }
 },
 "nbformat": 4,
 "nbformat_minor": 5
}
